{
 "cells": [
  {
   "cell_type": "code",
   "execution_count": 1,
   "metadata": {
    "ExecuteTime": {
     "end_time": "2020-03-04T05:49:47.009814Z",
     "start_time": "2020-03-04T05:49:42.870697Z"
    }
   },
   "outputs": [],
   "source": [
    "import pandas as pd\n",
    "import numpy as np\n",
    "import folium"
   ]
  },
  {
   "cell_type": "code",
   "execution_count": 2,
   "metadata": {
    "ExecuteTime": {
     "end_time": "2020-03-04T05:49:47.065325Z",
     "start_time": "2020-03-04T05:49:47.012467Z"
    }
   },
   "outputs": [
    {
     "data": {
      "text/html": [
       "<div style=\"width:100%;\"><div style=\"position:relative;width:100%;height:0;padding-bottom:60%;\"><iframe src=\"about:blank\" style=\"position:absolute;width:100%;height:100%;left:0;top:0;border:none !important;\" data-html=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 onload=\"this.contentDocument.open();this.contentDocument.write(atob(this.getAttribute('data-html')));this.contentDocument.close();\" allowfullscreen webkitallowfullscreen mozallowfullscreen></iframe></div></div>"
      ],
      "text/plain": [
       "<folium.folium.Map at 0x1e58fc51f08>"
      ]
     },
     "execution_count": 2,
     "metadata": {},
     "output_type": "execute_result"
    }
   ],
   "source": [
    "# world_map = folium.Map()\n",
    "# define the world map centered around Canada with a low zoom level\n",
    "world_map = folium.Map(location=[56.130, -106.35], zoom_start=8)\n",
    "world_map"
   ]
  },
  {
   "cell_type": "code",
   "execution_count": 4,
   "metadata": {
    "ExecuteTime": {
     "end_time": "2020-03-04T05:57:07.544970Z",
     "start_time": "2020-03-04T05:57:07.525025Z"
    }
   },
   "outputs": [
    {
     "data": {
      "text/html": [
       "<div style=\"width:100%;\"><div style=\"position:relative;width:100%;height:0;padding-bottom:60%;\"><iframe src=\"about:blank\" style=\"position:absolute;width:100%;height:100%;left:0;top:0;border:none !important;\" data-html=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 onload=\"this.contentDocument.open();this.contentDocument.write(atob(this.getAttribute('data-html')));this.contentDocument.close();\" allowfullscreen webkitallowfullscreen mozallowfullscreen></iframe></div></div>"
      ],
      "text/plain": [
       "<folium.folium.Map at 0x1e590ec31c8>"
      ]
     },
     "execution_count": 4,
     "metadata": {},
     "output_type": "execute_result"
    }
   ],
   "source": [
    "mexico_map = folium.Map(location=[23.6345, -102.5528], zoom_start=4)\n",
    "mexico_map"
   ]
  },
  {
   "cell_type": "markdown",
   "metadata": {},
   "source": [
    "# Stamen Toner Maps\n",
    "\n",
    "These are high-contrast B+W (black and white) maps. They are perfect for data mashups and exploring river meanders and coastal zones"
   ]
  },
  {
   "cell_type": "code",
   "execution_count": 5,
   "metadata": {
    "ExecuteTime": {
     "end_time": "2020-03-04T06:01:17.315137Z",
     "start_time": "2020-03-04T06:01:17.271740Z"
    }
   },
   "outputs": [
    {
     "data": {
      "text/html": [
       "<div style=\"width:100%;\"><div style=\"position:relative;width:100%;height:0;padding-bottom:60%;\"><iframe src=\"about:blank\" style=\"position:absolute;width:100%;height:100%;left:0;top:0;border:none !important;\" data-html=PCFET0NUWVBFIGh0bWw+CjxoZWFkPiAgICAKICAgIDxtZXRhIGh0dHAtZXF1aXY9ImNvbnRlbnQtdHlwZSIgY29udGVudD0idGV4dC9odG1sOyBjaGFyc2V0PVVURi04IiAvPgogICAgCiAgICAgICAgPHNjcmlwdD4KICAgICAgICAgICAgTF9OT19UT1VDSCA9IGZhbHNlOwogICAgICAgICAgICBMX0RJU0FCTEVfM0QgPSBmYWxzZTsKICAgICAgICA8L3NjcmlwdD4KICAgIAogICAgPHNjcmlwdCBzcmM9Imh0dHBzOi8vY2RuLmpzZGVsaXZyLm5ldC9ucG0vbGVhZmxldEAxLjUuMS9kaXN0L2xlYWZsZXQuanMiPjwvc2NyaXB0PgogICAgPHNjcmlwdCBzcmM9Imh0dHBzOi8vY29kZS5qcXVlcnkuY29tL2pxdWVyeS0xLjEyLjQubWluLmpzIj48L3NjcmlwdD4KICAgIDxzY3JpcHQgc3JjPSJodHRwczovL21heGNkbi5ib290c3RyYXBjZG4uY29tL2Jvb3RzdHJhcC8zLjIuMC9qcy9ib290c3RyYXAubWluLmpzIj48L3NjcmlwdD4KICAgIDxzY3JpcHQgc3JjPSJodHRwczovL2NkbmpzLmNsb3VkZmxhcmUuY29tL2FqYXgvbGlicy9MZWFmbGV0LmF3ZXNvbWUtbWFya2Vycy8yLjAuMi9sZWFmbGV0LmF3ZXNvbWUtbWFya2Vycy5qcyI+PC9zY3JpcHQ+CiAgICA8bGluayByZWw9InN0eWxlc2hlZXQiIGhyZWY9Imh0dHBzOi8vY2RuLmpzZGVsaXZyLm5ldC9ucG0vbGVhZmxldEAxLjUuMS9kaXN0L2xlYWZsZXQuY3NzIi8+CiAgICA8bGluayByZWw9InN0eWxlc2hlZXQiIGhyZWY9Imh0dHBzOi8vbWF4Y2RuLmJvb3RzdHJhcGNkbi5jb20vYm9vdHN0cmFwLzMuMi4wL2Nzcy9ib290c3RyYXAubWluLmNzcyIvPgogICAgPGxpbmsgcmVsPSJzdHlsZXNoZWV0IiBocmVmPSJodHRwczovL21heGNkbi5ib290c3RyYXBjZG4uY29tL2Jvb3RzdHJhcC8zLjIuMC9jc3MvYm9vdHN0cmFwLXRoZW1lLm1pbi5jc3MiLz4KICAgIDxsaW5rIHJlbD0ic3R5bGVzaGVldCIgaHJlZj0iaHR0cHM6Ly9tYXhjZG4uYm9vdHN0cmFwY2RuLmNvbS9mb250LWF3ZXNvbWUvNC42LjMvY3NzL2ZvbnQtYXdlc29tZS5taW4uY3NzIi8+CiAgICA8bGluayByZWw9InN0eWxlc2hlZXQiIGhyZWY9Imh0dHBzOi8vY2RuanMuY2xvdWRmbGFyZS5jb20vYWpheC9saWJzL0xlYWZsZXQuYXdlc29tZS1tYXJrZXJzLzIuMC4yL2xlYWZsZXQuYXdlc29tZS1tYXJrZXJzLmNzcyIvPgogICAgPGxpbmsgcmVsPSJzdHlsZXNoZWV0IiBocmVmPSJodHRwczovL3Jhd2Nkbi5naXRoYWNrLmNvbS9weXRob24tdmlzdWFsaXphdGlvbi9mb2xpdW0vbWFzdGVyL2ZvbGl1bS90ZW1wbGF0ZXMvbGVhZmxldC5hd2Vzb21lLnJvdGF0ZS5jc3MiLz4KICAgIDxzdHlsZT5odG1sLCBib2R5IHt3aWR0aDogMTAwJTtoZWlnaHQ6IDEwMCU7bWFyZ2luOiAwO3BhZGRpbmc6IDA7fTwvc3R5bGU+CiAgICA8c3R5bGU+I21hcCB7cG9zaXRpb246YWJzb2x1dGU7dG9wOjA7Ym90dG9tOjA7cmlnaHQ6MDtsZWZ0OjA7fTwvc3R5bGU+CiAgICAKICAgICAgICAgICAgPG1ldGEgbmFtZT0idmlld3BvcnQiIGNvbnRlbnQ9IndpZHRoPWRldmljZS13aWR0aCwKICAgICAgICAgICAgICAgIGluaXRpYWwtc2NhbGU9MS4wLCBtYXhpbXVtLXNjYWxlPTEuMCwgdXNlci1zY2FsYWJsZT1ubyIgLz4KICAgICAgICAgICAgPHN0eWxlPgogICAgICAgICAgICAgICAgI21hcF9lZjRiNDBmNzY5YmY0YTcxYjA2OTRlYzNjMmIwNzZlNiB7CiAgICAgICAgICAgICAgICAgICAgcG9zaXRpb246IHJlbGF0aXZlOwogICAgICAgICAgICAgICAgICAgIHdpZHRoOiAxMDAuMCU7CiAgICAgICAgICAgICAgICAgICAgaGVpZ2h0OiAxMDAuMCU7CiAgICAgICAgICAgICAgICAgICAgbGVmdDogMC4wJTsKICAgICAgICAgICAgICAgICAgICB0b3A6IDAuMCU7CiAgICAgICAgICAgICAgICB9CiAgICAgICAgICAgIDwvc3R5bGU+CiAgICAgICAgCjwvaGVhZD4KPGJvZHk+ICAgIAogICAgCiAgICAgICAgICAgIDxkaXYgY2xhc3M9ImZvbGl1bS1tYXAiIGlkPSJtYXBfZWY0YjQwZjc2OWJmNGE3MWIwNjk0ZWMzYzJiMDc2ZTYiID48L2Rpdj4KICAgICAgICAKPC9ib2R5Pgo8c2NyaXB0PiAgICAKICAgIAogICAgICAgICAgICB2YXIgbWFwX2VmNGI0MGY3NjliZjRhNzFiMDY5NGVjM2MyYjA3NmU2ID0gTC5tYXAoCiAgICAgICAgICAgICAgICAibWFwX2VmNGI0MGY3NjliZjRhNzFiMDY5NGVjM2MyYjA3NmU2IiwKICAgICAgICAgICAgICAgIHsKICAgICAgICAgICAgICAgICAgICBjZW50ZXI6IFs1Ni4xMywgLTEwNi4zNV0sCiAgICAgICAgICAgICAgICAgICAgY3JzOiBMLkNSUy5FUFNHMzg1NywKICAgICAgICAgICAgICAgICAgICB6b29tOiA0LAogICAgICAgICAgICAgICAgICAgIHpvb21Db250cm9sOiB0cnVlLAogICAgICAgICAgICAgICAgICAgIHByZWZlckNhbnZhczogZmFsc2UsCiAgICAgICAgICAgICAgICB9CiAgICAgICAgICAgICk7CgogICAgICAgICAgICAKCiAgICAgICAgCiAgICAKICAgICAgICAgICAgdmFyIHRpbGVfbGF5ZXJfYzBkYTc5NTk3M2MyNDFhOTg1NTA3OGVjMDUzZGIxNTQgPSBMLnRpbGVMYXllcigKICAgICAgICAgICAgICAgICJodHRwczovL3N0YW1lbi10aWxlcy17c30uYS5zc2wuZmFzdGx5Lm5ldC90b25lci97en0ve3h9L3t5fS5wbmciLAogICAgICAgICAgICAgICAgeyJhdHRyaWJ1dGlvbiI6ICJNYXAgdGlsZXMgYnkgXHUwMDNjYSBocmVmPVwiaHR0cDovL3N0YW1lbi5jb21cIlx1MDAzZVN0YW1lbiBEZXNpZ25cdTAwM2MvYVx1MDAzZSwgdW5kZXIgXHUwMDNjYSBocmVmPVwiaHR0cDovL2NyZWF0aXZlY29tbW9ucy5vcmcvbGljZW5zZXMvYnkvMy4wXCJcdTAwM2VDQyBCWSAzLjBcdTAwM2MvYVx1MDAzZS4gRGF0YSBieSBcdTAwMjZjb3B5OyBcdTAwM2NhIGhyZWY9XCJodHRwOi8vb3BlbnN0cmVldG1hcC5vcmdcIlx1MDAzZU9wZW5TdHJlZXRNYXBcdTAwM2MvYVx1MDAzZSwgdW5kZXIgXHUwMDNjYSBocmVmPVwiaHR0cDovL3d3dy5vcGVuc3RyZWV0bWFwLm9yZy9jb3B5cmlnaHRcIlx1MDAzZU9EYkxcdTAwM2MvYVx1MDAzZS4iLCAiZGV0ZWN0UmV0aW5hIjogZmFsc2UsICJtYXhOYXRpdmVab29tIjogMTgsICJtYXhab29tIjogMTgsICJtaW5ab29tIjogMCwgIm5vV3JhcCI6IGZhbHNlLCAib3BhY2l0eSI6IDEsICJzdWJkb21haW5zIjogImFiYyIsICJ0bXMiOiBmYWxzZX0KICAgICAgICAgICAgKS5hZGRUbyhtYXBfZWY0YjQwZjc2OWJmNGE3MWIwNjk0ZWMzYzJiMDc2ZTYpOwogICAgICAgIAo8L3NjcmlwdD4= onload=\"this.contentDocument.open();this.contentDocument.write(atob(this.getAttribute('data-html')));this.contentDocument.close();\" allowfullscreen webkitallowfullscreen mozallowfullscreen></iframe></div></div>"
      ],
      "text/plain": [
       "<folium.folium.Map at 0x1e591427488>"
      ]
     },
     "execution_count": 5,
     "metadata": {},
     "output_type": "execute_result"
    }
   ],
   "source": [
    "# create a Stamen Toner map of the world centered around Canada\n",
    "world_map = folium.Map(location=[56.130, -106.35], zoom_start=4, tiles='Stamen Toner')\n",
    "\n",
    "# display map\n",
    "world_map"
   ]
  },
  {
   "cell_type": "markdown",
   "metadata": {
    "ExecuteTime": {
     "end_time": "2020-03-04T06:02:17.306695Z",
     "start_time": "2020-03-04T06:02:17.300712Z"
    }
   },
   "source": [
    "# Stamen Terrain Maps\n",
    "\n",
    "These are maps that feature hill shading and natural vegetation colors. They showcase advanced labeling and linework generalization of dual-carriageway roads."
   ]
  },
  {
   "cell_type": "code",
   "execution_count": 7,
   "metadata": {
    "ExecuteTime": {
     "end_time": "2020-03-04T06:02:52.720264Z",
     "start_time": "2020-03-04T06:02:52.670400Z"
    }
   },
   "outputs": [
    {
     "data": {
      "text/html": [
       "<div style=\"width:100%;\"><div style=\"position:relative;width:100%;height:0;padding-bottom:60%;\"><iframe src=\"about:blank\" style=\"position:absolute;width:100%;height:100%;left:0;top:0;border:none !important;\" data-html=PCFET0NUWVBFIGh0bWw+CjxoZWFkPiAgICAKICAgIDxtZXRhIGh0dHAtZXF1aXY9ImNvbnRlbnQtdHlwZSIgY29udGVudD0idGV4dC9odG1sOyBjaGFyc2V0PVVURi04IiAvPgogICAgCiAgICAgICAgPHNjcmlwdD4KICAgICAgICAgICAgTF9OT19UT1VDSCA9IGZhbHNlOwogICAgICAgICAgICBMX0RJU0FCTEVfM0QgPSBmYWxzZTsKICAgICAgICA8L3NjcmlwdD4KICAgIAogICAgPHNjcmlwdCBzcmM9Imh0dHBzOi8vY2RuLmpzZGVsaXZyLm5ldC9ucG0vbGVhZmxldEAxLjUuMS9kaXN0L2xlYWZsZXQuanMiPjwvc2NyaXB0PgogICAgPHNjcmlwdCBzcmM9Imh0dHBzOi8vY29kZS5qcXVlcnkuY29tL2pxdWVyeS0xLjEyLjQubWluLmpzIj48L3NjcmlwdD4KICAgIDxzY3JpcHQgc3JjPSJodHRwczovL21heGNkbi5ib290c3RyYXBjZG4uY29tL2Jvb3RzdHJhcC8zLjIuMC9qcy9ib290c3RyYXAubWluLmpzIj48L3NjcmlwdD4KICAgIDxzY3JpcHQgc3JjPSJodHRwczovL2NkbmpzLmNsb3VkZmxhcmUuY29tL2FqYXgvbGlicy9MZWFmbGV0LmF3ZXNvbWUtbWFya2Vycy8yLjAuMi9sZWFmbGV0LmF3ZXNvbWUtbWFya2Vycy5qcyI+PC9zY3JpcHQ+CiAgICA8bGluayByZWw9InN0eWxlc2hlZXQiIGhyZWY9Imh0dHBzOi8vY2RuLmpzZGVsaXZyLm5ldC9ucG0vbGVhZmxldEAxLjUuMS9kaXN0L2xlYWZsZXQuY3NzIi8+CiAgICA8bGluayByZWw9InN0eWxlc2hlZXQiIGhyZWY9Imh0dHBzOi8vbWF4Y2RuLmJvb3RzdHJhcGNkbi5jb20vYm9vdHN0cmFwLzMuMi4wL2Nzcy9ib290c3RyYXAubWluLmNzcyIvPgogICAgPGxpbmsgcmVsPSJzdHlsZXNoZWV0IiBocmVmPSJodHRwczovL21heGNkbi5ib290c3RyYXBjZG4uY29tL2Jvb3RzdHJhcC8zLjIuMC9jc3MvYm9vdHN0cmFwLXRoZW1lLm1pbi5jc3MiLz4KICAgIDxsaW5rIHJlbD0ic3R5bGVzaGVldCIgaHJlZj0iaHR0cHM6Ly9tYXhjZG4uYm9vdHN0cmFwY2RuLmNvbS9mb250LWF3ZXNvbWUvNC42LjMvY3NzL2ZvbnQtYXdlc29tZS5taW4uY3NzIi8+CiAgICA8bGluayByZWw9InN0eWxlc2hlZXQiIGhyZWY9Imh0dHBzOi8vY2RuanMuY2xvdWRmbGFyZS5jb20vYWpheC9saWJzL0xlYWZsZXQuYXdlc29tZS1tYXJrZXJzLzIuMC4yL2xlYWZsZXQuYXdlc29tZS1tYXJrZXJzLmNzcyIvPgogICAgPGxpbmsgcmVsPSJzdHlsZXNoZWV0IiBocmVmPSJodHRwczovL3Jhd2Nkbi5naXRoYWNrLmNvbS9weXRob24tdmlzdWFsaXphdGlvbi9mb2xpdW0vbWFzdGVyL2ZvbGl1bS90ZW1wbGF0ZXMvbGVhZmxldC5hd2Vzb21lLnJvdGF0ZS5jc3MiLz4KICAgIDxzdHlsZT5odG1sLCBib2R5IHt3aWR0aDogMTAwJTtoZWlnaHQ6IDEwMCU7bWFyZ2luOiAwO3BhZGRpbmc6IDA7fTwvc3R5bGU+CiAgICA8c3R5bGU+I21hcCB7cG9zaXRpb246YWJzb2x1dGU7dG9wOjA7Ym90dG9tOjA7cmlnaHQ6MDtsZWZ0OjA7fTwvc3R5bGU+CiAgICAKICAgICAgICAgICAgPG1ldGEgbmFtZT0idmlld3BvcnQiIGNvbnRlbnQ9IndpZHRoPWRldmljZS13aWR0aCwKICAgICAgICAgICAgICAgIGluaXRpYWwtc2NhbGU9MS4wLCBtYXhpbXVtLXNjYWxlPTEuMCwgdXNlci1zY2FsYWJsZT1ubyIgLz4KICAgICAgICAgICAgPHN0eWxlPgogICAgICAgICAgICAgICAgI21hcF9hOGQ0Y2EzNjJjNjI0MmFmODA3Y2Q4Y2Y1ODUwYjcwNiB7CiAgICAgICAgICAgICAgICAgICAgcG9zaXRpb246IHJlbGF0aXZlOwogICAgICAgICAgICAgICAgICAgIHdpZHRoOiAxMDAuMCU7CiAgICAgICAgICAgICAgICAgICAgaGVpZ2h0OiAxMDAuMCU7CiAgICAgICAgICAgICAgICAgICAgbGVmdDogMC4wJTsKICAgICAgICAgICAgICAgICAgICB0b3A6IDAuMCU7CiAgICAgICAgICAgICAgICB9CiAgICAgICAgICAgIDwvc3R5bGU+CiAgICAgICAgCjwvaGVhZD4KPGJvZHk+ICAgIAogICAgCiAgICAgICAgICAgIDxkaXYgY2xhc3M9ImZvbGl1bS1tYXAiIGlkPSJtYXBfYThkNGNhMzYyYzYyNDJhZjgwN2NkOGNmNTg1MGI3MDYiID48L2Rpdj4KICAgICAgICAKPC9ib2R5Pgo8c2NyaXB0PiAgICAKICAgIAogICAgICAgICAgICB2YXIgbWFwX2E4ZDRjYTM2MmM2MjQyYWY4MDdjZDhjZjU4NTBiNzA2ID0gTC5tYXAoCiAgICAgICAgICAgICAgICAibWFwX2E4ZDRjYTM2MmM2MjQyYWY4MDdjZDhjZjU4NTBiNzA2IiwKICAgICAgICAgICAgICAgIHsKICAgICAgICAgICAgICAgICAgICBjZW50ZXI6IFs1Ni4xMywgLTEwNi4zNV0sCiAgICAgICAgICAgICAgICAgICAgY3JzOiBMLkNSUy5FUFNHMzg1NywKICAgICAgICAgICAgICAgICAgICB6b29tOiA0LAogICAgICAgICAgICAgICAgICAgIHpvb21Db250cm9sOiB0cnVlLAogICAgICAgICAgICAgICAgICAgIHByZWZlckNhbnZhczogZmFsc2UsCiAgICAgICAgICAgICAgICB9CiAgICAgICAgICAgICk7CgogICAgICAgICAgICAKCiAgICAgICAgCiAgICAKICAgICAgICAgICAgdmFyIHRpbGVfbGF5ZXJfMmI4ZWVjNjNjMzkwNDg3N2IxZjAxNGY1YzY2ZWM4ODggPSBMLnRpbGVMYXllcigKICAgICAgICAgICAgICAgICJodHRwczovL3N0YW1lbi10aWxlcy17c30uYS5zc2wuZmFzdGx5Lm5ldC90ZXJyYWluL3t6fS97eH0ve3l9LmpwZyIsCiAgICAgICAgICAgICAgICB7ImF0dHJpYnV0aW9uIjogIk1hcCB0aWxlcyBieSBcdTAwM2NhIGhyZWY9XCJodHRwOi8vc3RhbWVuLmNvbVwiXHUwMDNlU3RhbWVuIERlc2lnblx1MDAzYy9hXHUwMDNlLCB1bmRlciBcdTAwM2NhIGhyZWY9XCJodHRwOi8vY3JlYXRpdmVjb21tb25zLm9yZy9saWNlbnNlcy9ieS8zLjBcIlx1MDAzZUNDIEJZIDMuMFx1MDAzYy9hXHUwMDNlLiBEYXRhIGJ5IFx1MDAyNmNvcHk7IFx1MDAzY2EgaHJlZj1cImh0dHA6Ly9vcGVuc3RyZWV0bWFwLm9yZ1wiXHUwMDNlT3BlblN0cmVldE1hcFx1MDAzYy9hXHUwMDNlLCB1bmRlciBcdTAwM2NhIGhyZWY9XCJodHRwOi8vY3JlYXRpdmVjb21tb25zLm9yZy9saWNlbnNlcy9ieS1zYS8zLjBcIlx1MDAzZUNDIEJZIFNBXHUwMDNjL2FcdTAwM2UuIiwgImRldGVjdFJldGluYSI6IGZhbHNlLCAibWF4TmF0aXZlWm9vbSI6IDE4LCAibWF4Wm9vbSI6IDE4LCAibWluWm9vbSI6IDAsICJub1dyYXAiOiBmYWxzZSwgIm9wYWNpdHkiOiAxLCAic3ViZG9tYWlucyI6ICJhYmMiLCAidG1zIjogZmFsc2V9CiAgICAgICAgICAgICkuYWRkVG8obWFwX2E4ZDRjYTM2MmM2MjQyYWY4MDdjZDhjZjU4NTBiNzA2KTsKICAgICAgICAKPC9zY3JpcHQ+ onload=\"this.contentDocument.open();this.contentDocument.write(atob(this.getAttribute('data-html')));this.contentDocument.close();\" allowfullscreen webkitallowfullscreen mozallowfullscreen></iframe></div></div>"
      ],
      "text/plain": [
       "<folium.folium.Map at 0x1e59140e9c8>"
      ]
     },
     "execution_count": 7,
     "metadata": {},
     "output_type": "execute_result"
    }
   ],
   "source": [
    "# create a Stamen Toner map of the world centered around Canada\n",
    "world_map = folium.Map(location=[56.130, -106.35], zoom_start=4, tiles='Stamen Terrain')\n",
    "\n",
    "# display map\n",
    "world_map"
   ]
  },
  {
   "cell_type": "code",
   "execution_count": 10,
   "metadata": {
    "ExecuteTime": {
     "end_time": "2020-03-04T06:12:26.126807Z",
     "start_time": "2020-03-04T06:12:25.672701Z"
    }
   },
   "outputs": [],
   "source": [
    "df_incidents = pd.read_csv(r'C:\\Users\\KohMansf\\Desktop\\MJ Projects\\Matplotlib\\Files\\Police_Department_Incidents_2016.csv')"
   ]
  },
  {
   "cell_type": "code",
   "execution_count": 11,
   "metadata": {
    "ExecuteTime": {
     "end_time": "2020-03-04T06:12:30.064017Z",
     "start_time": "2020-03-04T06:12:30.039123Z"
    }
   },
   "outputs": [
    {
     "data": {
      "text/html": [
       "<div>\n",
       "<style scoped>\n",
       "    .dataframe tbody tr th:only-of-type {\n",
       "        vertical-align: middle;\n",
       "    }\n",
       "\n",
       "    .dataframe tbody tr th {\n",
       "        vertical-align: top;\n",
       "    }\n",
       "\n",
       "    .dataframe thead th {\n",
       "        text-align: right;\n",
       "    }\n",
       "</style>\n",
       "<table border=\"1\" class=\"dataframe\">\n",
       "  <thead>\n",
       "    <tr style=\"text-align: right;\">\n",
       "      <th></th>\n",
       "      <th>IncidntNum</th>\n",
       "      <th>Category</th>\n",
       "      <th>Descript</th>\n",
       "      <th>DayOfWeek</th>\n",
       "      <th>Date</th>\n",
       "      <th>Time</th>\n",
       "      <th>PdDistrict</th>\n",
       "      <th>Resolution</th>\n",
       "      <th>Address</th>\n",
       "      <th>X</th>\n",
       "      <th>Y</th>\n",
       "      <th>Location</th>\n",
       "      <th>PdId</th>\n",
       "    </tr>\n",
       "  </thead>\n",
       "  <tbody>\n",
       "    <tr>\n",
       "      <th>0</th>\n",
       "      <td>120058272</td>\n",
       "      <td>WEAPON LAWS</td>\n",
       "      <td>POSS OF PROHIBITED WEAPON</td>\n",
       "      <td>Friday</td>\n",
       "      <td>01/29/2016 12:00:00 AM</td>\n",
       "      <td>11:00</td>\n",
       "      <td>SOUTHERN</td>\n",
       "      <td>ARREST, BOOKED</td>\n",
       "      <td>800 Block of BRYANT ST</td>\n",
       "      <td>-122.403405</td>\n",
       "      <td>37.775421</td>\n",
       "      <td>(37.775420706711, -122.403404791479)</td>\n",
       "      <td>12005827212120</td>\n",
       "    </tr>\n",
       "    <tr>\n",
       "      <th>1</th>\n",
       "      <td>120058272</td>\n",
       "      <td>WEAPON LAWS</td>\n",
       "      <td>FIREARM, LOADED, IN VEHICLE, POSSESSION OR USE</td>\n",
       "      <td>Friday</td>\n",
       "      <td>01/29/2016 12:00:00 AM</td>\n",
       "      <td>11:00</td>\n",
       "      <td>SOUTHERN</td>\n",
       "      <td>ARREST, BOOKED</td>\n",
       "      <td>800 Block of BRYANT ST</td>\n",
       "      <td>-122.403405</td>\n",
       "      <td>37.775421</td>\n",
       "      <td>(37.775420706711, -122.403404791479)</td>\n",
       "      <td>12005827212168</td>\n",
       "    </tr>\n",
       "    <tr>\n",
       "      <th>2</th>\n",
       "      <td>141059263</td>\n",
       "      <td>WARRANTS</td>\n",
       "      <td>WARRANT ARREST</td>\n",
       "      <td>Monday</td>\n",
       "      <td>04/25/2016 12:00:00 AM</td>\n",
       "      <td>14:59</td>\n",
       "      <td>BAYVIEW</td>\n",
       "      <td>ARREST, BOOKED</td>\n",
       "      <td>KEITH ST / SHAFTER AV</td>\n",
       "      <td>-122.388856</td>\n",
       "      <td>37.729981</td>\n",
       "      <td>(37.7299809672996, -122.388856204292)</td>\n",
       "      <td>14105926363010</td>\n",
       "    </tr>\n",
       "    <tr>\n",
       "      <th>3</th>\n",
       "      <td>160013662</td>\n",
       "      <td>NON-CRIMINAL</td>\n",
       "      <td>LOST PROPERTY</td>\n",
       "      <td>Tuesday</td>\n",
       "      <td>01/05/2016 12:00:00 AM</td>\n",
       "      <td>23:50</td>\n",
       "      <td>TENDERLOIN</td>\n",
       "      <td>NONE</td>\n",
       "      <td>JONES ST / OFARRELL ST</td>\n",
       "      <td>-122.412971</td>\n",
       "      <td>37.785788</td>\n",
       "      <td>(37.7857883766888, -122.412970537591)</td>\n",
       "      <td>16001366271000</td>\n",
       "    </tr>\n",
       "    <tr>\n",
       "      <th>4</th>\n",
       "      <td>160002740</td>\n",
       "      <td>NON-CRIMINAL</td>\n",
       "      <td>LOST PROPERTY</td>\n",
       "      <td>Friday</td>\n",
       "      <td>01/01/2016 12:00:00 AM</td>\n",
       "      <td>00:30</td>\n",
       "      <td>MISSION</td>\n",
       "      <td>NONE</td>\n",
       "      <td>16TH ST / MISSION ST</td>\n",
       "      <td>-122.419672</td>\n",
       "      <td>37.765050</td>\n",
       "      <td>(37.7650501214668, -122.419671780296)</td>\n",
       "      <td>16000274071000</td>\n",
       "    </tr>\n",
       "  </tbody>\n",
       "</table>\n",
       "</div>"
      ],
      "text/plain": [
       "   IncidntNum      Category                                        Descript  \\\n",
       "0   120058272   WEAPON LAWS                       POSS OF PROHIBITED WEAPON   \n",
       "1   120058272   WEAPON LAWS  FIREARM, LOADED, IN VEHICLE, POSSESSION OR USE   \n",
       "2   141059263      WARRANTS                                  WARRANT ARREST   \n",
       "3   160013662  NON-CRIMINAL                                   LOST PROPERTY   \n",
       "4   160002740  NON-CRIMINAL                                   LOST PROPERTY   \n",
       "\n",
       "  DayOfWeek                    Date   Time  PdDistrict      Resolution  \\\n",
       "0    Friday  01/29/2016 12:00:00 AM  11:00    SOUTHERN  ARREST, BOOKED   \n",
       "1    Friday  01/29/2016 12:00:00 AM  11:00    SOUTHERN  ARREST, BOOKED   \n",
       "2    Monday  04/25/2016 12:00:00 AM  14:59     BAYVIEW  ARREST, BOOKED   \n",
       "3   Tuesday  01/05/2016 12:00:00 AM  23:50  TENDERLOIN            NONE   \n",
       "4    Friday  01/01/2016 12:00:00 AM  00:30     MISSION            NONE   \n",
       "\n",
       "                  Address           X          Y  \\\n",
       "0  800 Block of BRYANT ST -122.403405  37.775421   \n",
       "1  800 Block of BRYANT ST -122.403405  37.775421   \n",
       "2   KEITH ST / SHAFTER AV -122.388856  37.729981   \n",
       "3  JONES ST / OFARRELL ST -122.412971  37.785788   \n",
       "4    16TH ST / MISSION ST -122.419672  37.765050   \n",
       "\n",
       "                                Location            PdId  \n",
       "0   (37.775420706711, -122.403404791479)  12005827212120  \n",
       "1   (37.775420706711, -122.403404791479)  12005827212168  \n",
       "2  (37.7299809672996, -122.388856204292)  14105926363010  \n",
       "3  (37.7857883766888, -122.412970537591)  16001366271000  \n",
       "4  (37.7650501214668, -122.419671780296)  16000274071000  "
      ]
     },
     "execution_count": 11,
     "metadata": {},
     "output_type": "execute_result"
    }
   ],
   "source": [
    "df_incidents.head()"
   ]
  },
  {
   "cell_type": "code",
   "execution_count": 13,
   "metadata": {
    "ExecuteTime": {
     "end_time": "2020-03-04T06:19:01.512640Z",
     "start_time": "2020-03-04T06:19:01.507659Z"
    }
   },
   "outputs": [
    {
     "data": {
      "text/plain": [
       "(150500, 13)"
      ]
     },
     "execution_count": 13,
     "metadata": {},
     "output_type": "execute_result"
    }
   ],
   "source": [
    "df_incidents.shape"
   ]
  },
  {
   "cell_type": "code",
   "execution_count": 14,
   "metadata": {
    "ExecuteTime": {
     "end_time": "2020-03-04T06:20:07.859037Z",
     "start_time": "2020-03-04T06:20:07.854051Z"
    }
   },
   "outputs": [],
   "source": [
    "# get the first 100 crimes in the df_incidents dataframe\n",
    "limit = 100\n",
    "df_incidents = df_incidents.iloc[0:limit,:]"
   ]
  },
  {
   "cell_type": "code",
   "execution_count": 15,
   "metadata": {
    "ExecuteTime": {
     "end_time": "2020-03-04T06:20:24.926889Z",
     "start_time": "2020-03-04T06:20:24.919908Z"
    }
   },
   "outputs": [
    {
     "data": {
      "text/plain": [
       "(100, 13)"
      ]
     },
     "execution_count": 15,
     "metadata": {},
     "output_type": "execute_result"
    }
   ],
   "source": [
    "df_incidents.shape"
   ]
  },
  {
   "cell_type": "code",
   "execution_count": 16,
   "metadata": {
    "ExecuteTime": {
     "end_time": "2020-03-04T06:24:59.514015Z",
     "start_time": "2020-03-04T06:24:59.509028Z"
    }
   },
   "outputs": [],
   "source": [
    "# San Francisco latitude and longtitude\n",
    "latitude = 37.77\n",
    "longitude = -122.42"
   ]
  },
  {
   "cell_type": "code",
   "execution_count": 17,
   "metadata": {
    "ExecuteTime": {
     "end_time": "2020-03-04T06:25:53.987605Z",
     "start_time": "2020-03-04T06:25:53.968659Z"
    }
   },
   "outputs": [
    {
     "data": {
      "text/html": [
       "<div style=\"width:100%;\"><div style=\"position:relative;width:100%;height:0;padding-bottom:60%;\"><iframe src=\"about:blank\" style=\"position:absolute;width:100%;height:100%;left:0;top:0;border:none !important;\" data-html=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 onload=\"this.contentDocument.open();this.contentDocument.write(atob(this.getAttribute('data-html')));this.contentDocument.close();\" allowfullscreen webkitallowfullscreen mozallowfullscreen></iframe></div></div>"
      ],
      "text/plain": [
       "<folium.folium.Map at 0x1e5957b8cc8>"
      ]
     },
     "execution_count": 17,
     "metadata": {},
     "output_type": "execute_result"
    }
   ],
   "source": [
    "sanfran_map = folium.Map(location=[latitude,longitude],zoom_start=12)\n",
    "sanfran_map"
   ]
  },
  {
   "cell_type": "code",
   "execution_count": 20,
   "metadata": {
    "ExecuteTime": {
     "end_time": "2020-03-04T06:30:10.416802Z",
     "start_time": "2020-03-04T06:30:09.886567Z"
    }
   },
   "outputs": [
    {
     "data": {
      "text/html": [
       "<div style=\"width:100%;\"><div style=\"position:relative;width:100%;height:0;padding-bottom:60%;\"><iframe src=\"about:blank\" style=\"position:absolute;width:100%;height:100%;left:0;top:0;border:none !important;\" data-html=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 onload=\"this.contentDocument.open();this.contentDocument.write(atob(this.getAttribute('data-html')));this.contentDocument.close();\" allowfullscreen webkitallowfullscreen mozallowfullscreen></iframe></div></div>"
      ],
      "text/plain": [
       "<folium.folium.Map at 0x1e595804048>"
      ]
     },
     "execution_count": 20,
     "metadata": {},
     "output_type": "execute_result"
    }
   ],
   "source": [
    "from folium import plugins\n",
    "\n",
    "# let's start again with a clean copy of the map of San Francisco\n",
    "sanfran_map = folium.Map(location = [latitude, longitude], zoom_start = 12)\n",
    "\n",
    "# instantiate a mark cluster object for the incidents in the dataframe\n",
    "incidents = plugins.MarkerCluster().add_to(sanfran_map)\n",
    "\n",
    "# loop through the dataframe and add each data point to the mark cluster\n",
    "for lat, lng, label, in zip(df_incidents.Y, df_incidents.X, df_incidents.Category):\n",
    "    folium.Marker(\n",
    "        location=[lat, lng],\n",
    "        icon=None,\n",
    "        popup=label,\n",
    "    ).add_to(incidents)\n",
    "\n",
    "# display map\n",
    "sanfran_map"
   ]
  },
  {
   "cell_type": "markdown",
   "metadata": {},
   "source": [
    "# Choropleth Maps\n",
    "A `Choropleth` map is a thematic map in which areas are shaded or patterned in proportion to the measurement of the statistical variable being displayed on the map, such as population density or per-capita income. The choropleth map provides an easy way to visualize how a measurement varies across a geographic area or it shows the level of variability within a region. Below is a `Choropleth` map of the US depicting the population by square mile per state.\n"
   ]
  },
  {
   "cell_type": "code",
   "execution_count": 21,
   "metadata": {
    "ExecuteTime": {
     "end_time": "2020-03-04T06:33:46.057740Z",
     "start_time": "2020-03-04T06:33:45.393705Z"
    }
   },
   "outputs": [],
   "source": [
    "df_can = pd.read_excel(r'C:\\Users\\KohMansf\\Desktop\\MJ Projects\\Matplotlib\\Files\\Canada.xlsx',\n",
    "                      sheet_name='Canada by Citizenship',\n",
    "                      skiprows=range(20),\n",
    "                      skipfooter=20)"
   ]
  },
  {
   "cell_type": "code",
   "execution_count": 22,
   "metadata": {
    "ExecuteTime": {
     "end_time": "2020-03-04T06:33:50.121975Z",
     "start_time": "2020-03-04T06:33:50.078091Z"
    }
   },
   "outputs": [
    {
     "data": {
      "text/html": [
       "<div>\n",
       "<style scoped>\n",
       "    .dataframe tbody tr th:only-of-type {\n",
       "        vertical-align: middle;\n",
       "    }\n",
       "\n",
       "    .dataframe tbody tr th {\n",
       "        vertical-align: top;\n",
       "    }\n",
       "\n",
       "    .dataframe thead th {\n",
       "        text-align: right;\n",
       "    }\n",
       "</style>\n",
       "<table border=\"1\" class=\"dataframe\">\n",
       "  <thead>\n",
       "    <tr style=\"text-align: right;\">\n",
       "      <th></th>\n",
       "      <th>Type</th>\n",
       "      <th>Coverage</th>\n",
       "      <th>OdName</th>\n",
       "      <th>AREA</th>\n",
       "      <th>AreaName</th>\n",
       "      <th>REG</th>\n",
       "      <th>RegName</th>\n",
       "      <th>DEV</th>\n",
       "      <th>DevName</th>\n",
       "      <th>1980</th>\n",
       "      <th>...</th>\n",
       "      <th>2004</th>\n",
       "      <th>2005</th>\n",
       "      <th>2006</th>\n",
       "      <th>2007</th>\n",
       "      <th>2008</th>\n",
       "      <th>2009</th>\n",
       "      <th>2010</th>\n",
       "      <th>2011</th>\n",
       "      <th>2012</th>\n",
       "      <th>2013</th>\n",
       "    </tr>\n",
       "  </thead>\n",
       "  <tbody>\n",
       "    <tr>\n",
       "      <th>0</th>\n",
       "      <td>Immigrants</td>\n",
       "      <td>Foreigners</td>\n",
       "      <td>Afghanistan</td>\n",
       "      <td>935</td>\n",
       "      <td>Asia</td>\n",
       "      <td>5501</td>\n",
       "      <td>Southern Asia</td>\n",
       "      <td>902</td>\n",
       "      <td>Developing regions</td>\n",
       "      <td>16</td>\n",
       "      <td>...</td>\n",
       "      <td>2978</td>\n",
       "      <td>3436</td>\n",
       "      <td>3009</td>\n",
       "      <td>2652</td>\n",
       "      <td>2111</td>\n",
       "      <td>1746</td>\n",
       "      <td>1758</td>\n",
       "      <td>2203</td>\n",
       "      <td>2635</td>\n",
       "      <td>2004</td>\n",
       "    </tr>\n",
       "    <tr>\n",
       "      <th>1</th>\n",
       "      <td>Immigrants</td>\n",
       "      <td>Foreigners</td>\n",
       "      <td>Albania</td>\n",
       "      <td>908</td>\n",
       "      <td>Europe</td>\n",
       "      <td>925</td>\n",
       "      <td>Southern Europe</td>\n",
       "      <td>901</td>\n",
       "      <td>Developed regions</td>\n",
       "      <td>1</td>\n",
       "      <td>...</td>\n",
       "      <td>1450</td>\n",
       "      <td>1223</td>\n",
       "      <td>856</td>\n",
       "      <td>702</td>\n",
       "      <td>560</td>\n",
       "      <td>716</td>\n",
       "      <td>561</td>\n",
       "      <td>539</td>\n",
       "      <td>620</td>\n",
       "      <td>603</td>\n",
       "    </tr>\n",
       "    <tr>\n",
       "      <th>2</th>\n",
       "      <td>Immigrants</td>\n",
       "      <td>Foreigners</td>\n",
       "      <td>Algeria</td>\n",
       "      <td>903</td>\n",
       "      <td>Africa</td>\n",
       "      <td>912</td>\n",
       "      <td>Northern Africa</td>\n",
       "      <td>902</td>\n",
       "      <td>Developing regions</td>\n",
       "      <td>80</td>\n",
       "      <td>...</td>\n",
       "      <td>3616</td>\n",
       "      <td>3626</td>\n",
       "      <td>4807</td>\n",
       "      <td>3623</td>\n",
       "      <td>4005</td>\n",
       "      <td>5393</td>\n",
       "      <td>4752</td>\n",
       "      <td>4325</td>\n",
       "      <td>3774</td>\n",
       "      <td>4331</td>\n",
       "    </tr>\n",
       "    <tr>\n",
       "      <th>3</th>\n",
       "      <td>Immigrants</td>\n",
       "      <td>Foreigners</td>\n",
       "      <td>American Samoa</td>\n",
       "      <td>909</td>\n",
       "      <td>Oceania</td>\n",
       "      <td>957</td>\n",
       "      <td>Polynesia</td>\n",
       "      <td>902</td>\n",
       "      <td>Developing regions</td>\n",
       "      <td>0</td>\n",
       "      <td>...</td>\n",
       "      <td>0</td>\n",
       "      <td>0</td>\n",
       "      <td>1</td>\n",
       "      <td>0</td>\n",
       "      <td>0</td>\n",
       "      <td>0</td>\n",
       "      <td>0</td>\n",
       "      <td>0</td>\n",
       "      <td>0</td>\n",
       "      <td>0</td>\n",
       "    </tr>\n",
       "    <tr>\n",
       "      <th>4</th>\n",
       "      <td>Immigrants</td>\n",
       "      <td>Foreigners</td>\n",
       "      <td>Andorra</td>\n",
       "      <td>908</td>\n",
       "      <td>Europe</td>\n",
       "      <td>925</td>\n",
       "      <td>Southern Europe</td>\n",
       "      <td>901</td>\n",
       "      <td>Developed regions</td>\n",
       "      <td>0</td>\n",
       "      <td>...</td>\n",
       "      <td>0</td>\n",
       "      <td>0</td>\n",
       "      <td>1</td>\n",
       "      <td>1</td>\n",
       "      <td>0</td>\n",
       "      <td>0</td>\n",
       "      <td>0</td>\n",
       "      <td>0</td>\n",
       "      <td>1</td>\n",
       "      <td>1</td>\n",
       "    </tr>\n",
       "  </tbody>\n",
       "</table>\n",
       "<p>5 rows × 43 columns</p>\n",
       "</div>"
      ],
      "text/plain": [
       "         Type    Coverage          OdName  AREA AreaName   REG  \\\n",
       "0  Immigrants  Foreigners     Afghanistan   935     Asia  5501   \n",
       "1  Immigrants  Foreigners         Albania   908   Europe   925   \n",
       "2  Immigrants  Foreigners         Algeria   903   Africa   912   \n",
       "3  Immigrants  Foreigners  American Samoa   909  Oceania   957   \n",
       "4  Immigrants  Foreigners         Andorra   908   Europe   925   \n",
       "\n",
       "           RegName  DEV             DevName  1980  ...  2004  2005  2006  \\\n",
       "0    Southern Asia  902  Developing regions    16  ...  2978  3436  3009   \n",
       "1  Southern Europe  901   Developed regions     1  ...  1450  1223   856   \n",
       "2  Northern Africa  902  Developing regions    80  ...  3616  3626  4807   \n",
       "3        Polynesia  902  Developing regions     0  ...     0     0     1   \n",
       "4  Southern Europe  901   Developed regions     0  ...     0     0     1   \n",
       "\n",
       "   2007  2008  2009  2010  2011  2012  2013  \n",
       "0  2652  2111  1746  1758  2203  2635  2004  \n",
       "1   702   560   716   561   539   620   603  \n",
       "2  3623  4005  5393  4752  4325  3774  4331  \n",
       "3     0     0     0     0     0     0     0  \n",
       "4     1     0     0     0     0     1     1  \n",
       "\n",
       "[5 rows x 43 columns]"
      ]
     },
     "execution_count": 22,
     "metadata": {},
     "output_type": "execute_result"
    }
   ],
   "source": [
    "df_can.head()"
   ]
  },
  {
   "cell_type": "code",
   "execution_count": 23,
   "metadata": {
    "ExecuteTime": {
     "end_time": "2020-03-04T06:34:16.667912Z",
     "start_time": "2020-03-04T06:34:16.639991Z"
    }
   },
   "outputs": [
    {
     "name": "stdout",
     "output_type": "stream",
     "text": [
      "data dimensions: (177, 39)\n"
     ]
    }
   ],
   "source": [
    "# clean up the dataset to remove unnecessary columns (eg. REG) \n",
    "df_can.drop(['AREA','REG','DEV','Type','Coverage'], axis=1, inplace=True)\n",
    "\n",
    "# let's rename the columns so that they make sense\n",
    "df_can.rename(columns={'OdName':'Country', 'AreaName':'Continent','RegName':'Region'}, inplace=True)\n",
    "\n",
    "# for sake of consistency, let's also make all column labels of type string\n",
    "df_can.columns = list(map(str, df_can.columns))\n",
    "\n",
    "# add total column\n",
    "df_can['Total'] = df_can.sum(axis=1)\n",
    "\n",
    "# years that we will be using in this lesson - useful for plotting later on\n",
    "years = list(map(str, range(1980, 2014)))\n",
    "print ('data dimensions:', df_can.shape)"
   ]
  },
  {
   "cell_type": "code",
   "execution_count": 24,
   "metadata": {
    "ExecuteTime": {
     "end_time": "2020-03-04T06:34:34.201979Z",
     "start_time": "2020-03-04T06:34:34.180040Z"
    }
   },
   "outputs": [
    {
     "data": {
      "text/html": [
       "<div>\n",
       "<style scoped>\n",
       "    .dataframe tbody tr th:only-of-type {\n",
       "        vertical-align: middle;\n",
       "    }\n",
       "\n",
       "    .dataframe tbody tr th {\n",
       "        vertical-align: top;\n",
       "    }\n",
       "\n",
       "    .dataframe thead th {\n",
       "        text-align: right;\n",
       "    }\n",
       "</style>\n",
       "<table border=\"1\" class=\"dataframe\">\n",
       "  <thead>\n",
       "    <tr style=\"text-align: right;\">\n",
       "      <th></th>\n",
       "      <th>Country</th>\n",
       "      <th>Continent</th>\n",
       "      <th>Region</th>\n",
       "      <th>DevName</th>\n",
       "      <th>1980</th>\n",
       "      <th>1981</th>\n",
       "      <th>1982</th>\n",
       "      <th>1983</th>\n",
       "      <th>1984</th>\n",
       "      <th>1985</th>\n",
       "      <th>...</th>\n",
       "      <th>2005</th>\n",
       "      <th>2006</th>\n",
       "      <th>2007</th>\n",
       "      <th>2008</th>\n",
       "      <th>2009</th>\n",
       "      <th>2010</th>\n",
       "      <th>2011</th>\n",
       "      <th>2012</th>\n",
       "      <th>2013</th>\n",
       "      <th>Total</th>\n",
       "    </tr>\n",
       "  </thead>\n",
       "  <tbody>\n",
       "    <tr>\n",
       "      <th>0</th>\n",
       "      <td>Afghanistan</td>\n",
       "      <td>Asia</td>\n",
       "      <td>Southern Asia</td>\n",
       "      <td>Developing regions</td>\n",
       "      <td>16</td>\n",
       "      <td>39</td>\n",
       "      <td>39</td>\n",
       "      <td>47</td>\n",
       "      <td>71</td>\n",
       "      <td>340</td>\n",
       "      <td>...</td>\n",
       "      <td>3436</td>\n",
       "      <td>3009</td>\n",
       "      <td>2652</td>\n",
       "      <td>2111</td>\n",
       "      <td>1746</td>\n",
       "      <td>1758</td>\n",
       "      <td>2203</td>\n",
       "      <td>2635</td>\n",
       "      <td>2004</td>\n",
       "      <td>58639</td>\n",
       "    </tr>\n",
       "    <tr>\n",
       "      <th>1</th>\n",
       "      <td>Albania</td>\n",
       "      <td>Europe</td>\n",
       "      <td>Southern Europe</td>\n",
       "      <td>Developed regions</td>\n",
       "      <td>1</td>\n",
       "      <td>0</td>\n",
       "      <td>0</td>\n",
       "      <td>0</td>\n",
       "      <td>0</td>\n",
       "      <td>0</td>\n",
       "      <td>...</td>\n",
       "      <td>1223</td>\n",
       "      <td>856</td>\n",
       "      <td>702</td>\n",
       "      <td>560</td>\n",
       "      <td>716</td>\n",
       "      <td>561</td>\n",
       "      <td>539</td>\n",
       "      <td>620</td>\n",
       "      <td>603</td>\n",
       "      <td>15699</td>\n",
       "    </tr>\n",
       "    <tr>\n",
       "      <th>2</th>\n",
       "      <td>Algeria</td>\n",
       "      <td>Africa</td>\n",
       "      <td>Northern Africa</td>\n",
       "      <td>Developing regions</td>\n",
       "      <td>80</td>\n",
       "      <td>67</td>\n",
       "      <td>71</td>\n",
       "      <td>69</td>\n",
       "      <td>63</td>\n",
       "      <td>44</td>\n",
       "      <td>...</td>\n",
       "      <td>3626</td>\n",
       "      <td>4807</td>\n",
       "      <td>3623</td>\n",
       "      <td>4005</td>\n",
       "      <td>5393</td>\n",
       "      <td>4752</td>\n",
       "      <td>4325</td>\n",
       "      <td>3774</td>\n",
       "      <td>4331</td>\n",
       "      <td>69439</td>\n",
       "    </tr>\n",
       "    <tr>\n",
       "      <th>3</th>\n",
       "      <td>American Samoa</td>\n",
       "      <td>Oceania</td>\n",
       "      <td>Polynesia</td>\n",
       "      <td>Developing regions</td>\n",
       "      <td>0</td>\n",
       "      <td>1</td>\n",
       "      <td>0</td>\n",
       "      <td>0</td>\n",
       "      <td>0</td>\n",
       "      <td>0</td>\n",
       "      <td>...</td>\n",
       "      <td>0</td>\n",
       "      <td>1</td>\n",
       "      <td>0</td>\n",
       "      <td>0</td>\n",
       "      <td>0</td>\n",
       "      <td>0</td>\n",
       "      <td>0</td>\n",
       "      <td>0</td>\n",
       "      <td>0</td>\n",
       "      <td>6</td>\n",
       "    </tr>\n",
       "    <tr>\n",
       "      <th>4</th>\n",
       "      <td>Andorra</td>\n",
       "      <td>Europe</td>\n",
       "      <td>Southern Europe</td>\n",
       "      <td>Developed regions</td>\n",
       "      <td>0</td>\n",
       "      <td>0</td>\n",
       "      <td>0</td>\n",
       "      <td>0</td>\n",
       "      <td>0</td>\n",
       "      <td>0</td>\n",
       "      <td>...</td>\n",
       "      <td>0</td>\n",
       "      <td>1</td>\n",
       "      <td>1</td>\n",
       "      <td>0</td>\n",
       "      <td>0</td>\n",
       "      <td>0</td>\n",
       "      <td>0</td>\n",
       "      <td>1</td>\n",
       "      <td>1</td>\n",
       "      <td>15</td>\n",
       "    </tr>\n",
       "  </tbody>\n",
       "</table>\n",
       "<p>5 rows × 39 columns</p>\n",
       "</div>"
      ],
      "text/plain": [
       "          Country Continent           Region             DevName  1980  1981  \\\n",
       "0     Afghanistan      Asia    Southern Asia  Developing regions    16    39   \n",
       "1         Albania    Europe  Southern Europe   Developed regions     1     0   \n",
       "2         Algeria    Africa  Northern Africa  Developing regions    80    67   \n",
       "3  American Samoa   Oceania        Polynesia  Developing regions     0     1   \n",
       "4         Andorra    Europe  Southern Europe   Developed regions     0     0   \n",
       "\n",
       "   1982  1983  1984  1985  ...  2005  2006  2007  2008  2009  2010  2011  \\\n",
       "0    39    47    71   340  ...  3436  3009  2652  2111  1746  1758  2203   \n",
       "1     0     0     0     0  ...  1223   856   702   560   716   561   539   \n",
       "2    71    69    63    44  ...  3626  4807  3623  4005  5393  4752  4325   \n",
       "3     0     0     0     0  ...     0     1     0     0     0     0     0   \n",
       "4     0     0     0     0  ...     0     1     1     0     0     0     0   \n",
       "\n",
       "   2012  2013  Total  \n",
       "0  2635  2004  58639  \n",
       "1   620   603  15699  \n",
       "2  3774  4331  69439  \n",
       "3     0     0      6  \n",
       "4     1     1     15  \n",
       "\n",
       "[5 rows x 39 columns]"
      ]
     },
     "execution_count": 24,
     "metadata": {},
     "output_type": "execute_result"
    }
   ],
   "source": [
    "df_can.head()"
   ]
  }
 ],
 "metadata": {
  "hide_input": false,
  "kernelspec": {
   "display_name": "MJ",
   "language": "python",
   "name": "mj"
  },
  "language_info": {
   "codemirror_mode": {
    "name": "ipython",
    "version": 3
   },
   "file_extension": ".py",
   "mimetype": "text/x-python",
   "name": "python",
   "nbconvert_exporter": "python",
   "pygments_lexer": "ipython3",
   "version": "3.7.5"
  },
  "toc": {
   "base_numbering": 1,
   "nav_menu": {},
   "number_sections": true,
   "sideBar": true,
   "skip_h1_title": false,
   "title_cell": "Table of Contents",
   "title_sidebar": "Contents",
   "toc_cell": false,
   "toc_position": {},
   "toc_section_display": true,
   "toc_window_display": true
  }
 },
 "nbformat": 4,
 "nbformat_minor": 4
}
